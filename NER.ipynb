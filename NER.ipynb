{
 "cells": [
  {
   "cell_type": "markdown",
   "metadata": {
    "colab_type": "text",
    "id": "q4gSqDnOaJ7W"
   },
   "source": [
    "<h2 align=center> Named Entity Recognition (NER) using LSTMs with Keras</h2>"
   ]
  },
  {
   "cell_type": "markdown",
   "metadata": {
    "colab_type": "text",
    "id": "fdo8oAodagwo"
   },
   "source": [
    "### Task 1: Project Overview and Import Modules"
   ]
  },
  {
   "cell_type": "code",
   "execution_count": 62,
   "metadata": {
    "colab": {
     "base_uri": "https://localhost:8080/",
     "height": 52
    },
    "colab_type": "code",
    "id": "oLK7Y1jiNXDa",
    "outputId": "0f319464-ee49-4035-f6fb-8396f488c41f"
   },
   "outputs": [
    {
     "name": "stdout",
     "output_type": "stream",
     "text": [
      "Tensorflow version: 2.1.0\n",
      "GPU detected: []\n"
     ]
    }
   ],
   "source": [
    "from pathlib import Path\n",
    "\n",
    "%matplotlib inline\n",
    "import matplotlib.pyplot as plt\n",
    "import pandas as pd\n",
    "import numpy as np\n",
    "np.random.seed(0)\n",
    "plt.style.use('fast')\n",
    "\n",
    "import tensorflow as tf\n",
    "\n",
    "print(f'Tensorflow version: {tf.__version__}')\n",
    "print(f'GPU detected: {tf.config.list_physical_devices(\"GPU\")}')"
   ]
  },
  {
   "cell_type": "markdown",
   "metadata": {
    "colab_type": "text",
    "id": "4N_AW6lMbB5N"
   },
   "source": [
    "### Task 2: Load and Explore the NER Dataset"
   ]
  },
  {
   "cell_type": "markdown",
   "metadata": {},
   "source": [
    "*Essential info about tagged entities*:\n",
    "- geo = Geographical Entity\n",
    "- org = Organization\n",
    "- per = Person\n",
    "- gpe = Geopolitical Entity\n",
    "- tim = Time indicator\n",
    "- art = Artifact\n",
    "- eve = Event\n",
    "- nat = Natural Phenomenon"
   ]
  },
  {
   "cell_type": "code",
   "execution_count": 63,
   "metadata": {
    "colab": {
     "base_uri": "https://localhost:8080/",
     "height": 363
    },
    "colab_type": "code",
    "id": "mCKmz4SAbI_m",
    "outputId": "a03b1aed-dc60-4f03-cb06-19e440fa6367"
   },
   "outputs": [],
   "source": [
    "data_path = Path('ner_dataset.csv.zip')\n",
    "data = pd.read_csv(data_path, encoding='latin1')\n",
    "data = data.fillna(method='ffill')"
   ]
  },
  {
   "cell_type": "code",
   "execution_count": 64,
   "outputs": [],
   "source": [
    "# lowercase columns\n",
    "data.columns = data.columns.str.lower()"
   ],
   "metadata": {
    "collapsed": false,
    "pycharm": {
     "name": "#%%\n"
    }
   }
  },
  {
   "cell_type": "code",
   "execution_count": 65,
   "outputs": [
    {
     "data": {
      "text/plain": "     sentence #           word  pos    tag\n0   Sentence: 1      Thousands  NNS      O\n1   Sentence: 1             of   IN      O\n2   Sentence: 1  demonstrators  NNS      O\n3   Sentence: 1           have  VBP      O\n4   Sentence: 1        marched  VBN      O\n5   Sentence: 1        through   IN      O\n6   Sentence: 1         London  NNP  B-geo\n7   Sentence: 1             to   TO      O\n8   Sentence: 1        protest   VB      O\n9   Sentence: 1            the   DT      O\n10  Sentence: 1            war   NN      O\n11  Sentence: 1             in   IN      O\n12  Sentence: 1           Iraq  NNP  B-geo\n13  Sentence: 1            and   CC      O\n14  Sentence: 1         demand   VB      O\n15  Sentence: 1            the   DT      O\n16  Sentence: 1     withdrawal   NN      O\n17  Sentence: 1             of   IN      O\n18  Sentence: 1        British   JJ  B-gpe\n19  Sentence: 1         troops  NNS      O",
      "text/html": "<div>\n<style scoped>\n    .dataframe tbody tr th:only-of-type {\n        vertical-align: middle;\n    }\n\n    .dataframe tbody tr th {\n        vertical-align: top;\n    }\n\n    .dataframe thead th {\n        text-align: right;\n    }\n</style>\n<table border=\"1\" class=\"dataframe\">\n  <thead>\n    <tr style=\"text-align: right;\">\n      <th></th>\n      <th>sentence #</th>\n      <th>word</th>\n      <th>pos</th>\n      <th>tag</th>\n    </tr>\n  </thead>\n  <tbody>\n    <tr>\n      <th>0</th>\n      <td>Sentence: 1</td>\n      <td>Thousands</td>\n      <td>NNS</td>\n      <td>O</td>\n    </tr>\n    <tr>\n      <th>1</th>\n      <td>Sentence: 1</td>\n      <td>of</td>\n      <td>IN</td>\n      <td>O</td>\n    </tr>\n    <tr>\n      <th>2</th>\n      <td>Sentence: 1</td>\n      <td>demonstrators</td>\n      <td>NNS</td>\n      <td>O</td>\n    </tr>\n    <tr>\n      <th>3</th>\n      <td>Sentence: 1</td>\n      <td>have</td>\n      <td>VBP</td>\n      <td>O</td>\n    </tr>\n    <tr>\n      <th>4</th>\n      <td>Sentence: 1</td>\n      <td>marched</td>\n      <td>VBN</td>\n      <td>O</td>\n    </tr>\n    <tr>\n      <th>5</th>\n      <td>Sentence: 1</td>\n      <td>through</td>\n      <td>IN</td>\n      <td>O</td>\n    </tr>\n    <tr>\n      <th>6</th>\n      <td>Sentence: 1</td>\n      <td>London</td>\n      <td>NNP</td>\n      <td>B-geo</td>\n    </tr>\n    <tr>\n      <th>7</th>\n      <td>Sentence: 1</td>\n      <td>to</td>\n      <td>TO</td>\n      <td>O</td>\n    </tr>\n    <tr>\n      <th>8</th>\n      <td>Sentence: 1</td>\n      <td>protest</td>\n      <td>VB</td>\n      <td>O</td>\n    </tr>\n    <tr>\n      <th>9</th>\n      <td>Sentence: 1</td>\n      <td>the</td>\n      <td>DT</td>\n      <td>O</td>\n    </tr>\n    <tr>\n      <th>10</th>\n      <td>Sentence: 1</td>\n      <td>war</td>\n      <td>NN</td>\n      <td>O</td>\n    </tr>\n    <tr>\n      <th>11</th>\n      <td>Sentence: 1</td>\n      <td>in</td>\n      <td>IN</td>\n      <td>O</td>\n    </tr>\n    <tr>\n      <th>12</th>\n      <td>Sentence: 1</td>\n      <td>Iraq</td>\n      <td>NNP</td>\n      <td>B-geo</td>\n    </tr>\n    <tr>\n      <th>13</th>\n      <td>Sentence: 1</td>\n      <td>and</td>\n      <td>CC</td>\n      <td>O</td>\n    </tr>\n    <tr>\n      <th>14</th>\n      <td>Sentence: 1</td>\n      <td>demand</td>\n      <td>VB</td>\n      <td>O</td>\n    </tr>\n    <tr>\n      <th>15</th>\n      <td>Sentence: 1</td>\n      <td>the</td>\n      <td>DT</td>\n      <td>O</td>\n    </tr>\n    <tr>\n      <th>16</th>\n      <td>Sentence: 1</td>\n      <td>withdrawal</td>\n      <td>NN</td>\n      <td>O</td>\n    </tr>\n    <tr>\n      <th>17</th>\n      <td>Sentence: 1</td>\n      <td>of</td>\n      <td>IN</td>\n      <td>O</td>\n    </tr>\n    <tr>\n      <th>18</th>\n      <td>Sentence: 1</td>\n      <td>British</td>\n      <td>JJ</td>\n      <td>B-gpe</td>\n    </tr>\n    <tr>\n      <th>19</th>\n      <td>Sentence: 1</td>\n      <td>troops</td>\n      <td>NNS</td>\n      <td>O</td>\n    </tr>\n  </tbody>\n</table>\n</div>"
     },
     "execution_count": 65,
     "metadata": {},
     "output_type": "execute_result"
    }
   ],
   "source": [
    "data.head(20)"
   ],
   "metadata": {
    "collapsed": false,
    "pycharm": {
     "name": "#%%\n"
    }
   }
  },
  {
   "cell_type": "code",
   "execution_count": 66,
   "outputs": [
    {
     "name": "stdout",
     "output_type": "stream",
     "text": [
      "Unique words in corpus: 35178\n",
      "Unique tags in corpus: 17\n"
     ]
    }
   ],
   "source": [
    "print(f'Unique words in corpus: {data[\"word\"].nunique()}')\n",
    "print(f'Unique tags in corpus: {data[\"tag\"].nunique()}')"
   ],
   "metadata": {
    "collapsed": false,
    "pycharm": {
     "name": "#%%\n"
    }
   }
  },
  {
   "cell_type": "code",
   "execution_count": 67,
   "outputs": [],
   "source": [
    "words = list(set(data['word'].values))\n",
    "words.append('ENDPAD')\n",
    "num_words = len(words)"
   ],
   "metadata": {
    "collapsed": false,
    "pycharm": {
     "name": "#%%\n"
    }
   }
  },
  {
   "cell_type": "code",
   "execution_count": 68,
   "outputs": [],
   "source": [
    "tags = list(set(data['tag'].values))\n",
    "num_tags = len(tags)"
   ],
   "metadata": {
    "collapsed": false,
    "pycharm": {
     "name": "#%%\n"
    }
   }
  },
  {
   "cell_type": "code",
   "execution_count": 69,
   "outputs": [
    {
     "data": {
      "text/plain": "(35179, 17)"
     },
     "execution_count": 69,
     "metadata": {},
     "output_type": "execute_result"
    }
   ],
   "source": [
    "num_words, num_tags"
   ],
   "metadata": {
    "collapsed": false,
    "pycharm": {
     "name": "#%%\n"
    }
   }
  },
  {
   "cell_type": "markdown",
   "metadata": {
    "colab_type": "text",
    "id": "M9D9JEzUbdnS"
   },
   "source": [
    "### Task 3: Retrieve Sentences and Corresponding Tags"
   ]
  },
  {
   "cell_type": "code",
   "execution_count": 70,
   "metadata": {
    "colab": {},
    "colab_type": "code",
    "id": "VdJst_g5NYY_"
   },
   "outputs": [],
   "source": [
    "class SentenceGetter:\n",
    "    def __init__(self, data):\n",
    "        self.n_sent = 1\n",
    "        self.data = data\n",
    "\n",
    "        agg_func = lambda s: [(w, p, t) for w, p, t in zip(s['word'].values.tolist(),\n",
    "                                                           s['pos'].values.tolist(),\n",
    "                                                           s['tag'].values.tolist())]\n",
    "\n",
    "        self.grouped = self.data.groupby('sentence #').apply(agg_func)\n",
    "        self.sentences = [s for s in self.grouped]"
   ]
  },
  {
   "cell_type": "code",
   "execution_count": 71,
   "outputs": [],
   "source": [
    "getter = SentenceGetter(data)\n",
    "sentences = getter.sentences"
   ],
   "metadata": {
    "collapsed": false,
    "pycharm": {
     "name": "#%%\n"
    }
   }
  },
  {
   "cell_type": "code",
   "execution_count": 72,
   "outputs": [
    {
     "data": {
      "text/plain": "[('Thousands', 'NNS', 'O'),\n ('of', 'IN', 'O'),\n ('demonstrators', 'NNS', 'O'),\n ('have', 'VBP', 'O'),\n ('marched', 'VBN', 'O'),\n ('through', 'IN', 'O'),\n ('London', 'NNP', 'B-geo'),\n ('to', 'TO', 'O'),\n ('protest', 'VB', 'O'),\n ('the', 'DT', 'O'),\n ('war', 'NN', 'O'),\n ('in', 'IN', 'O'),\n ('Iraq', 'NNP', 'B-geo'),\n ('and', 'CC', 'O'),\n ('demand', 'VB', 'O'),\n ('the', 'DT', 'O'),\n ('withdrawal', 'NN', 'O'),\n ('of', 'IN', 'O'),\n ('British', 'JJ', 'B-gpe'),\n ('troops', 'NNS', 'O'),\n ('from', 'IN', 'O'),\n ('that', 'DT', 'O'),\n ('country', 'NN', 'O'),\n ('.', '.', 'O')]"
     },
     "execution_count": 72,
     "metadata": {},
     "output_type": "execute_result"
    }
   ],
   "source": [
    "sentences[0]"
   ],
   "metadata": {
    "collapsed": false,
    "pycharm": {
     "name": "#%%\n"
    }
   }
  },
  {
   "cell_type": "markdown",
   "metadata": {
    "colab_type": "text",
    "id": "ldhuogX4eHE4"
   },
   "source": [
    "### Task 4: Define Mappings between Sentences and Tags"
   ]
  },
  {
   "cell_type": "code",
   "execution_count": 73,
   "metadata": {
    "colab": {},
    "colab_type": "code",
    "id": "SvENHO18pkaQ"
   },
   "outputs": [],
   "source": [
    "word2idx = {w: i + 1 for i, w in enumerate(words)}\n",
    "tag2idx = {t: i for i, t in enumerate(tags)}"
   ]
  },
  {
   "cell_type": "code",
   "execution_count": 74,
   "outputs": [
    {
     "data": {
      "text/plain": "{'concerns': 1,\n 'throw': 2,\n '33': 3,\n 'Olympian': 4,\n 'handing': 5,\n 'Pakistani-controlled': 6,\n 'pondered': 7,\n 'Congress': 8,\n 'Shandong': 9,\n 'Warming': 10,\n 'shows': 11,\n 'regressing': 12,\n 'AU': 13,\n 'ransom': 14,\n 'ailment': 15,\n 'releases': 16,\n 'multi-year': 17,\n 'Decade': 18,\n 'buyout': 19,\n 'Traian': 20,\n 'Maoist': 21,\n 'leased': 22,\n 'Foxx': 23,\n 'demerits': 24,\n \"O'Hara\": 25,\n 'Asir': 26,\n 'Capital': 27,\n 'week-and-a-half': 28,\n 'Kan': 29,\n 'hunted': 30,\n 'Kunpeng': 31,\n 'Situations': 32,\n 'lightning': 33,\n 'al-Juhyi': 34,\n 'U.S.-proposed': 35,\n 'Agreement': 36,\n 'patients': 37,\n 'reviewed': 38,\n 'hunters': 39,\n 'nursing': 40,\n 'Minghe': 41,\n 'Jaji': 42,\n 'airing': 43,\n 'traveling': 44,\n 'Carson': 45,\n 'Dixie': 46,\n 'blanked': 47,\n 'Plavia': 48,\n 'angioplasty': 49,\n 'sprain': 50,\n 'warm-up': 51,\n 'Durban': 52,\n 'culpable': 53,\n 'Baleno': 54,\n 'flush': 55,\n 'Macedonian': 56,\n 'pizza': 57,\n 'independent': 58,\n 'director-general': 59,\n \"Sa'eed\": 60,\n 'Bormio': 61,\n 'Basuto': 62,\n 'dispenser': 63,\n 'mean': 64,\n 'Chol': 65,\n 'quench': 66,\n 'feminism': 67,\n 'road': 68,\n 'Tigris': 69,\n 'heavy-handed': 70,\n '1945': 71,\n 'instrumental': 72,\n '1.64': 73,\n '9,34,000': 74,\n 'Mohsen': 75,\n 'needy': 76,\n 'Europe': 77,\n 'oceans': 78,\n 'Marinus': 79,\n 'consists': 80,\n 'Sayyed': 81,\n 'photos': 82,\n 'rigidities': 83,\n 'titanosaurs': 84,\n 'Spanta': 85,\n 'recipient': 86,\n 'Presutti': 87,\n '12-percent': 88,\n 'shallow': 89,\n 'transformer': 90,\n 'chrome': 91,\n 'Sedin': 92,\n 'dispatched': 93,\n 'Josef': 94,\n 'Xianliang': 95,\n 'ambulance': 96,\n 'Afren': 97,\n 'congratulatory': 98,\n 'mild': 99,\n 'door': 100,\n 'briefings': 101,\n 'Eveready': 102,\n 'Internal': 103,\n 'pre-recorded': 104,\n 'insurgency-plagued': 105,\n 'Yulija': 106,\n 'cavity': 107,\n 'Hurriyat': 108,\n 'long-dominant': 109,\n 'merciful': 110,\n 'objectivity': 111,\n 'Michael': 112,\n 'anti-insurgent': 113,\n 'TRNC': 114,\n 'Ahmad': 115,\n 'calmness': 116,\n 'Bernard': 117,\n 'unsealed': 118,\n 'second-wicket': 119,\n 'Volcano': 120,\n '65.25': 121,\n 'Hendarso': 122,\n 'behind': 123,\n 'Alec': 124,\n 'wound': 125,\n '123': 126,\n 'available': 127,\n 'whisky': 128,\n 'spilt': 129,\n 'neighbors': 130,\n 'protester': 131,\n 'devalued': 132,\n 'Bheri': 133,\n 'Nicanor': 134,\n '18,00': 135,\n 'Maciej': 136,\n 'grass-court': 137,\n 'denominated': 138,\n 'U.S.-controlled': 139,\n 'sessions': 140,\n 'undergo': 141,\n 'hardship': 142,\n 'receptive': 143,\n 'Committee': 144,\n 'uniform': 145,\n 'Venezuelans': 146,\n 'Dutch-Shell': 147,\n 'Benjamin': 148,\n 'concerning': 149,\n 'Veterans': 150,\n 'unfit': 151,\n 'candlelight': 152,\n 'league-wide': 153,\n 'assumptions': 154,\n 'fastening': 155,\n 'kilometer-per-hour': 156,\n 'Azhari': 157,\n 'Happold': 158,\n '1850': 159,\n 'Opera': 160,\n 'reprisals': 161,\n '128': 162,\n 'robot': 163,\n 'wiretap': 164,\n 'truncated': 165,\n 'keel': 166,\n 'armored': 167,\n 'Stiegler': 168,\n 'Verheugen': 169,\n '101': 170,\n 'repository': 171,\n 're-locate': 172,\n 'displayed': 173,\n 'spun': 174,\n 'democratic': 175,\n 'sophisticated': 176,\n 'Muttawakil': 177,\n 'A.J.': 178,\n 'multi-layered': 179,\n '760': 180,\n 'Nicholas': 181,\n \"L'OUVERTURE\": 182,\n 'KEELING': 183,\n 'HER-2': 184,\n 'Leipzig': 185,\n 'ethnically-Tibetan': 186,\n 'football': 187,\n 'Askja': 188,\n 'Luther': 189,\n 'Sander': 190,\n 'constitutional': 191,\n 'units': 192,\n 'portrayed': 193,\n 'upright': 194,\n '28,000': 195,\n 'step': 196,\n 'account-holders': 197,\n 'Farda': 198,\n 'Oct.': 199,\n 'Alireza': 200,\n 'Shana': 201,\n 'Barham': 202,\n 'TamilNet': 203,\n 'right-wing': 204,\n '3,17,000': 205,\n 'Maathai': 206,\n 'reef': 207,\n 'Javad': 208,\n 'UkrGazEnergo': 209,\n 'H5': 210,\n 're-nationalized': 211,\n 'receving': 212,\n 'bluntly': 213,\n 'god-king': 214,\n 'Dextre': 215,\n '1776': 216,\n 'headscarf': 217,\n 'Wooden': 218,\n 'Cycling': 219,\n 'Ramechhap': 220,\n 'sneaking': 221,\n 'faults': 222,\n 'investigation': 223,\n 'Bilis': 224,\n 'wreathlaying': 225,\n 'dreadfully': 226,\n 'Filip': 227,\n 'government-ordered': 228,\n 'educate': 229,\n 'Aharonot': 230,\n 'thinning': 231,\n 'Programming': 232,\n 'than': 233,\n 'Thais': 234,\n 'protested': 235,\n 'ahead': 236,\n 'Vicente': 237,\n 'Charlie': 238,\n 'jockeys': 239,\n 'TOR-M1': 240,\n 'shielding': 241,\n 'cylinders': 242,\n 'Hence': 243,\n 'federal': 244,\n 'Such': 245,\n 'likely': 246,\n 'capsize': 247,\n 'medics': 248,\n 'shores': 249,\n 'considerations': 250,\n 'unidentified': 251,\n 'handcuffs': 252,\n 'deepwater': 253,\n 'Hollywood': 254,\n 'onerous': 255,\n '636-type': 256,\n 'predicts': 257,\n 'Pitcher': 258,\n 'Number-eight': 259,\n 'wayside': 260,\n 'watchers': 261,\n 'Chapter': 262,\n 'Meoni': 263,\n 'militiamen': 264,\n 'taxation': 265,\n 'high-cost': 266,\n 'Dam': 267,\n 'literate': 268,\n 'meshes': 269,\n 'implicated': 270,\n 'overcrowded': 271,\n 'modernity': 272,\n 'prolong': 273,\n 'Husaybah': 274,\n 'Yentai': 275,\n 'jeopardize': 276,\n 'IAEA': 277,\n 'proceed': 278,\n 'Sum-41': 279,\n '323': 280,\n 'flares': 281,\n 'indicate': 282,\n 'Satriale': 283,\n 'Declaration': 284,\n '8.2': 285,\n '1970s': 286,\n 'Carolyn': 287,\n 'Pluralistic': 288,\n 'absentee': 289,\n 'contributes': 290,\n 'entity': 291,\n 'collectivization': 292,\n 'Dadis': 293,\n 'Shepherds': 294,\n 'convergent': 295,\n 'helpe': 296,\n 'US-Canada': 297,\n 'felony': 298,\n 'Mirdamadi': 299,\n 'leopards': 300,\n 'reorganized': 301,\n 'shake-up': 302,\n 'Ports': 303,\n 'Thales': 304,\n 'migrating': 305,\n 'Samples': 306,\n 'March': 307,\n 'resign': 308,\n 'Heishan': 309,\n 'Jesse': 310,\n 'stops': 311,\n 'Belgrade': 312,\n 'powerless': 313,\n 'ILO': 314,\n 'edition': 315,\n '4.00': 316,\n 'Harold': 317,\n 'mocked': 318,\n 'Lady': 319,\n 'Tarique': 320,\n 'CRAB': 321,\n 'adjustment': 322,\n 'inter-religious': 323,\n 'Your': 324,\n 'sight-seeing': 325,\n 'even-odd': 326,\n 'Peres': 327,\n 'attack': 328,\n 'decontaminating': 329,\n 'newsroom': 330,\n 'you': 331,\n 'sheriff': 332,\n 'extrajudicial': 333,\n 'Farah': 334,\n 'lamivudine': 335,\n 'childhood': 336,\n 'Workers': 337,\n 'maneuvering': 338,\n 'Samie': 339,\n 'Azhar': 340,\n '8,500': 341,\n 'well-to-do': 342,\n '10-to-eight': 343,\n 'ornament': 344,\n 'Bahadur': 345,\n '380': 346,\n 'Whittington': 347,\n 'Post-election': 348,\n 'anti-cocaine': 349,\n 'revisit': 350,\n '50-year-old': 351,\n '255': 352,\n 'Crews': 353,\n 'MBEKI': 354,\n '10,000': 355,\n 'Emmen': 356,\n '121.79': 357,\n 'free-market': 358,\n 'Islamophobic': 359,\n 'manufactures': 360,\n 'Pale': 361,\n 'laborer': 362,\n 'trip': 363,\n '9,000': 364,\n 'would': 365,\n 'F15': 366,\n 'Actors': 367,\n 'Polska': 368,\n 'Bahr': 369,\n '8,462': 370,\n 'Superhighway': 371,\n 'step-grandmother': 372,\n 'apostles': 373,\n 'policeman': 374,\n 'commissioner': 375,\n 'pummeling': 376,\n 'Giuliani': 377,\n 'gels': 378,\n 'delegation': 379,\n '1,04,586': 380,\n 'measurer': 381,\n 'Eddin': 382,\n 'Juarez': 383,\n 'harbored': 384,\n 'lslamic': 385,\n 'PyeongChang': 386,\n 'mingled': 387,\n 'bowlers': 388,\n 'availability': 389,\n '45-thousand': 390,\n 'SHEVARDNADZE': 391,\n 'worship': 392,\n 'Little': 393,\n 'soft': 394,\n 'dependency': 395,\n 'tongue': 396,\n 'Dairy': 397,\n 'helped': 398,\n 'skillfully': 399,\n 'mindful': 400,\n 'working-age': 401,\n 'match': 402,\n 'over-interpreted': 403,\n 'None': 404,\n 'Serzh': 405,\n 'profiteers': 406,\n 'RCTV': 407,\n '2005': 408,\n 'Rupiah': 409,\n 'Mathieu': 410,\n 'Jennings': 411,\n 'Gupta': 412,\n 'Resolution': 413,\n 'tenure': 414,\n 'straight-set': 415,\n 'authorization': 416,\n '1853': 417,\n 'Nazarbayev': 418,\n 'rocket': 419,\n 'Writers': 420,\n 'Floquet': 421,\n 'Rabiah': 422,\n 'them': 423,\n 'sort': 424,\n 'fearless': 425,\n 'enraged': 426,\n 'LION': 427,\n 'Tropical': 428,\n 'Gilles': 429,\n 'organizing': 430,\n 'OLPC': 431,\n 'eyes': 432,\n 'half-page': 433,\n 'Siddiqi': 434,\n 'terrorize': 435,\n 'al-Muasher': 436,\n 'sanctioning': 437,\n '52-year-old': 438,\n 'Shourd': 439,\n 'Apollo': 440,\n 'Germanic': 441,\n 'slaughter': 442,\n 'nuts': 443,\n \"Jama'at\": 444,\n 'Skelleftea': 445,\n 'succumbed': 446,\n 'Sutalinov': 447,\n 'Jhy-wey': 448,\n 'diligently': 449,\n 'foot': 450,\n 'evaded': 451,\n 'Fifty-one': 452,\n \"Baku-T'bilisi-Erzerum\": 453,\n 'generations': 454,\n 'Miliband': 455,\n 'Soldaten': 456,\n 'Palocci': 457,\n 'appointments': 458,\n 'stakes': 459,\n 'wrecking': 460,\n 'warheads': 461,\n 'rescheduled': 462,\n '128-member': 463,\n 'Belize': 464,\n 'Armenia': 465,\n 'indebtedness': 466,\n 'footprint-shaped': 467,\n 'Autonomous': 468,\n 'anti-malaria': 469,\n 'bonds': 470,\n 'eight-nation': 471,\n 'adequately': 472,\n 'Baquba': 473,\n 'undefeated': 474,\n 'Khristenko': 475,\n 'Trincomalee': 476,\n 'chase': 477,\n 'rout': 478,\n 'frivolous': 479,\n 'Razuri': 480,\n 'video': 481,\n 'Singer-songwriter': 482,\n 'Gabcikovo': 483,\n 'speculate': 484,\n 'well-qualified': 485,\n 'Reserve': 486,\n 'loosely': 487,\n 'Arlete': 488,\n 'prisons': 489,\n 'third-round': 490,\n 'Dechy': 491,\n 'weekly': 492,\n 'midway': 493,\n 'Mourino': 494,\n 'Outmigration': 495,\n 'slicked': 496,\n 'inquiries': 497,\n 'Swiss': 498,\n 'Muslim-dominated': 499,\n 'snag': 500,\n '301': 501,\n '72': 502,\n 'sermons': 503,\n 'via': 504,\n 'match-fixing': 505,\n 'songwriter': 506,\n 'WD5': 507,\n \"d'affaires\": 508,\n 'Palestinian-owned': 509,\n 'mineworkers': 510,\n 'Mubarak': 511,\n 'Nakamura': 512,\n 'Mavi': 513,\n 'Pattle': 514,\n 'resisting': 515,\n 'wine-making': 516,\n 'Bolivian': 517,\n 'verbally': 518,\n 'chain': 519,\n 'dollar-based': 520,\n 'Popovkin': 521,\n 'Self-sufficient': 522,\n 'editions': 523,\n 'extremism': 524,\n 'Karim': 525,\n 'Hacari': 526,\n 'Juma': 527,\n 'target': 528,\n 'Malachite': 529,\n 'extradited': 530,\n '36.8': 531,\n 'Pulp': 532,\n 'XTR': 533,\n 'Endeavour': 534,\n 'misses': 535,\n '60-hour': 536,\n 'photographs': 537,\n 'Kerman': 538,\n 'Hualan': 539,\n 'greatest': 540,\n '159': 541,\n 'researching': 542,\n 'pragmatists': 543,\n 'Maryland': 544,\n 'Repeal': 545,\n 'brief': 546,\n 'Rezai': 547,\n 'explaining': 548,\n 'Wardheer': 549,\n 'aims': 550,\n 'al-Arab': 551,\n '75-year-old': 552,\n 'scandal': 553,\n 'interruptions': 554,\n '10-member': 555,\n 'flagon': 556,\n 'Soleil': 557,\n 'Swede': 558,\n 'single-dose': 559,\n 'Polynesian': 560,\n 'newly-elected': 561,\n 'lightening': 562,\n 'emitted': 563,\n 'sprees': 564,\n '1907': 565,\n 'al-Sammarei': 566,\n 'Kroes': 567,\n 'cleanup': 568,\n 'imposing': 569,\n 'curling': 570,\n 'Hariri': 571,\n 'Kwajalein': 572,\n 'diamond': 573,\n 'concentrating': 574,\n 'core': 575,\n 'castoff': 576,\n 'spokesperson': 577,\n 'lecturers': 578,\n '2,781': 579,\n 'Emerli': 580,\n 'gas-producing': 581,\n 'Turk': 582,\n 'non-cooperation': 583,\n '65-to-22': 584,\n 'vocation': 585,\n 'Khatibi': 586,\n 'Injured': 587,\n 'renoun': 588,\n 'loosened': 589,\n 'Roger': 590,\n 'variation': 591,\n 'Liempde': 592,\n '4x5-kilometer': 593,\n 'Civil': 594,\n 'Muslims': 595,\n 'believing': 596,\n 'judged': 597,\n 'revitalize': 598,\n 'arbiter': 599,\n 'paces': 600,\n 'beating': 601,\n 'Telecom': 602,\n 'coefficient': 603,\n '1,600-kilometer': 604,\n 'capsule': 605,\n 'elected': 606,\n 'Falash': 607,\n 'Mil': 608,\n 'life-spans': 609,\n '5,588': 610,\n 'Pro-Moscow': 611,\n 'WMD': 612,\n 'bureaucracy': 613,\n 'Policy': 614,\n 'stringent': 615,\n 'Richards': 616,\n 'NAACP': 617,\n 'Dealing': 618,\n 'stabilizing': 619,\n 'Oprah': 620,\n 'cawed': 621,\n 'Conson': 622,\n 'Jarkko': 623,\n '25-years-old': 624,\n 'Nodar': 625,\n 'anticipating': 626,\n 'grapple': 627,\n '428': 628,\n 'Dozens': 629,\n 'Goss': 630,\n '1-0': 631,\n 'hearse': 632,\n 'constructed': 633,\n 'mourned': 634,\n 'sponsor': 635,\n 'flaws': 636,\n 'both': 637,\n 'tumors': 638,\n 'Over': 639,\n 'surfboard': 640,\n 'Radak': 641,\n 'Decree': 642,\n 'Estefan': 643,\n 'cantons': 644,\n 'Sahel': 645,\n 'Mitchell': 646,\n 'inconvenience': 647,\n 'hurricane-': 648,\n 'outperformed': 649,\n 'eggs': 650,\n 'Unified': 651,\n 'aspect': 652,\n 'sputtered': 653,\n 'Caymans': 654,\n 'Rodon': 655,\n 'Swift': 656,\n 'RPT': 657,\n 'Infrared': 658,\n 'Ibb': 659,\n 'qualifying-round': 660,\n 'six-point': 661,\n 'backward': 662,\n 'Cachaito': 663,\n 'Monterrey': 664,\n 'Phyu': 665,\n 'Shoko': 666,\n 'Kris': 667,\n 'circulation': 668,\n '963': 669,\n 'multi-million': 670,\n 'Eric': 671,\n 'Monday': 672,\n 'Phil': 673,\n 'Sandagiri': 674,\n 'acknowledgment': 675,\n 'Melinda': 676,\n 'heroin': 677,\n 'psychological': 678,\n 'inspectors': 679,\n 'Saxby': 680,\n '119': 681,\n 'anti-Communists': 682,\n 'Jaua': 683,\n 'hospice': 684,\n 'Hanan': 685,\n 'rails': 686,\n 'preference': 687,\n 'Alexeyenko': 688,\n 'tougher': 689,\n '72-hour': 690,\n 'chute': 691,\n 'disparage': 692,\n 'fertility': 693,\n 'Executives': 694,\n 'NORIEGA': 695,\n 'Jakob': 696,\n 'distribute': 697,\n 'artistic': 698,\n 'Vechchio': 699,\n 'snub': 700,\n 'counter-attacks': 701,\n 'Hydara': 702,\n 'impeach': 703,\n 'Virginie': 704,\n 'Traditionally': 705,\n 'tainted': 706,\n 'Nabil': 707,\n 'curtailing': 708,\n 'C.': 709,\n 'Cayman': 710,\n 'kills': 711,\n 'taste': 712,\n 'print': 713,\n 'quotations': 714,\n 'savage': 715,\n 'Fitch': 716,\n 'Beach': 717,\n 'injury': 718,\n 'Richter': 719,\n 'Kuba': 720,\n 'Emperor': 721,\n 'goods': 722,\n 'ration': 723,\n 'unnerve': 724,\n 'Kosumi': 725,\n 'Nasab': 726,\n 'five-year-old': 727,\n 'hoped': 728,\n 'ISNA': 729,\n 'Thiam': 730,\n 'pre-World': 731,\n 'acquisition-minded': 732,\n 'exhort': 733,\n 'barbarity': 734,\n 'technocrat': 735,\n '0.02': 736,\n 'ouster': 737,\n 'visits': 738,\n '800-meter-wide': 739,\n 'impressive': 740,\n 'agent': 741,\n 'Ararat': 742,\n 'banditry': 743,\n 'pairs': 744,\n 'Ljubicic': 745,\n 'Lynn': 746,\n 'MERCURY': 747,\n 'sensitive': 748,\n 'Polio': 749,\n 'KABILA': 750,\n 'non-traditional': 751,\n 'Late': 752,\n 'As': 753,\n 'passive': 754,\n 'assigned': 755,\n 'Presidency': 756,\n 'managing': 757,\n 'foreigner': 758,\n 'Master': 759,\n 'boasts': 760,\n 'Martial': 761,\n 'Microsystems': 762,\n 'Pigs': 763,\n 'world-wide': 764,\n 'Kowalski': 765,\n '57.6': 766,\n 'Samahdna': 767,\n 'Al-Fasher': 768,\n 'virtually': 769,\n 'service-oriented': 770,\n 'objected': 771,\n 'Leonardo': 772,\n 'Noumea': 773,\n 'adventure': 774,\n 'three-decade-old': 775,\n '737': 776,\n 'capable': 777,\n 'languages': 778,\n 'Lusaka': 779,\n 'overturning': 780,\n 'findings': 781,\n 'Egypt-Gaza': 782,\n 'rekindled': 783,\n 'leftists': 784,\n 'frail': 785,\n 'continues': 786,\n 'signifies': 787,\n 'donate': 788,\n 'Borys': 789,\n 'Representatives': 790,\n 'cook': 791,\n 'warlord': 792,\n 'frontier': 793,\n 'sniper': 794,\n 'SAARC': 795,\n 'Guo-Quiang': 796,\n 'Violence': 797,\n 'devices': 798,\n 'becoming': 799,\n 'Chiang': 800,\n 'Nobel': 801,\n 'Habsadeh': 802,\n 'stinging': 803,\n 'Jersey': 804,\n '0-3': 805,\n 'GUSTAV': 806,\n 'Norma': 807,\n 'Laxman': 808,\n 'Khalid': 809,\n 'gathered': 810,\n 'Hussey': 811,\n 'staunch': 812,\n 'returned': 813,\n 'Goalkeeper': 814,\n 'oil': 815,\n 'Samho': 816,\n 'Casassa': 817,\n 'breakthroughs': 818,\n 'illicit': 819,\n 'onboard': 820,\n 'unclaimed': 821,\n 'veil': 822,\n 'confessed': 823,\n 'Rini': 824,\n 'Lloyd': 825,\n 'scoundrel': 826,\n 'undesirable': 827,\n 'olive': 828,\n 'Unopposed': 829,\n '1988': 830,\n 'Jiaxuan': 831,\n 'crept': 832,\n 'subpoenas': 833,\n 'Rizvan': 834,\n 'Laredo': 835,\n '141': 836,\n 'Singnaghi': 837,\n 'relax': 838,\n 'calorie': 839,\n 'Select': 840,\n 'Taro': 841,\n 'Cerveny': 842,\n 'Keidel': 843,\n 'partially-collapsed': 844,\n 'journalism': 845,\n 'pills': 846,\n 'airmen': 847,\n 'Trinidad': 848,\n 'built': 849,\n 'Taza': 850,\n 'recently': 851,\n 'Sicko': 852,\n 'imperialism': 853,\n 'ear': 854,\n 'euro-zone': 855,\n 'mutate': 856,\n 'attractions': 857,\n 'Milky': 858,\n 'minerals': 859,\n 'compensation': 860,\n 'Agriculture': 861,\n 'Czech': 862,\n 'notably': 863,\n 'purification': 864,\n 'tenets': 865,\n 'directions': 866,\n 'motorway': 867,\n 'Berlin-based': 868,\n 'Nikolas': 869,\n 'Unknowns': 870,\n 'kick-start': 871,\n 'alliances': 872,\n 'catches': 873,\n 'per-capita': 874,\n 'Catholic': 875,\n 'provocation': 876,\n '60-year': 877,\n 'Hoekstra': 878,\n 'sympathetic': 879,\n 'justification': 880,\n 'batsman': 881,\n 'Porto': 882,\n 'estimates': 883,\n 'Allegra': 884,\n 'Kartli-Iberia': 885,\n 'caste': 886,\n 'SUV': 887,\n 'slot': 888,\n 'hilltop': 889,\n 'hacked': 890,\n 'vivanews.com': 891,\n 'wrested': 892,\n 'stepping': 893,\n '1,06,591': 894,\n 'al-Hamash': 895,\n 'two-week': 896,\n 'Torah': 897,\n 'Serhiy': 898,\n 'ski': 899,\n 'Sharon': 900,\n '543-member': 901,\n 'planet': 902,\n 'dries': 903,\n 'Bosnian': 904,\n 'Chambliss': 905,\n 'lapses': 906,\n 'al-Ghurabaa': 907,\n 'defy': 908,\n 'Disputed': 909,\n 'liberation': 910,\n 'Tycze': 911,\n '0.193': 912,\n 'soldiers': 913,\n '0.110474537': 914,\n 'CDs': 915,\n 'infuriated': 916,\n 'European-built': 917,\n 'Shoichi': 918,\n 'attracts': 919,\n 'dedicate': 920,\n 'destabilize': 921,\n 'Prices': 922,\n 'Serbs': 923,\n 'Presidential': 924,\n 'inflame': 925,\n '1958': 926,\n 'steadfast': 927,\n 'prohibit': 928,\n 'Toe': 929,\n 'expire': 930,\n 'disembark': 931,\n '74-year-old': 932,\n 'petition': 933,\n 'Farris': 934,\n 'fared': 935,\n 'Qom': 936,\n 'has': 937,\n 'Ndimyake': 938,\n 'fundamentally': 939,\n 'shatters': 940,\n 'mortification': 941,\n '300-km': 942,\n 'Nasiriyah': 943,\n 'interactive': 944,\n 'Tsushko': 945,\n 'released': 946,\n 'left-handed': 947,\n 'city': 948,\n 'bible': 949,\n 'profiled': 950,\n 'sensual': 951,\n 'insects': 952,\n 'clan': 953,\n 'Arab-dominated': 954,\n 'Yongbyong': 955,\n 'Mercantile': 956,\n 'launched': 957,\n 'archaeologist': 958,\n 'improvements': 959,\n 'Ousamane': 960,\n 'license': 961,\n 'Qiang': 962,\n 'PRGF': 963,\n 'Erbamont': 964,\n 'jury': 965,\n 'G-Eight': 966,\n 'Guy': 967,\n 'Shieh': 968,\n 'greed': 969,\n 'Net': 970,\n 'whistleblower': 971,\n 'A.U.': 972,\n 'medication': 973,\n 'expected': 974,\n 'electronic': 975,\n 'Kiffa': 976,\n 'perestroika': 977,\n 'US-Mexican': 978,\n 'non-member': 979,\n 'immunity': 980,\n 'specifies': 981,\n 'jet': 982,\n 'turmoil': 983,\n 'Dong-Young': 984,\n 'vengeance': 985,\n '174': 986,\n 'celebrities': 987,\n 'Salva': 988,\n 'Abramoff': 989,\n 'passes': 990,\n 'Beiji': 991,\n '97': 992,\n 'bomb-laden': 993,\n 'institution': 994,\n 'Chrysostomos': 995,\n 'shrapnel-packed': 996,\n 'Mirwaiz': 997,\n 'Lahiya': 998,\n 'Kveta': 999,\n 'Joseph': 1000,\n ...}"
     },
     "execution_count": 74,
     "metadata": {},
     "output_type": "execute_result"
    }
   ],
   "source": [
    "word2idx\n"
   ],
   "metadata": {
    "collapsed": false,
    "pycharm": {
     "name": "#%%\n"
    }
   }
  },
  {
   "cell_type": "markdown",
   "metadata": {
    "colab_type": "text",
    "id": "zXzE0MdsemCH"
   },
   "source": [
    "### Task 5: Padding Input Sentences and Creating Train/Test Splits"
   ]
  },
  {
   "cell_type": "code",
   "execution_count": 75,
   "metadata": {
    "colab": {
     "base_uri": "https://localhost:8080/",
     "height": 265
    },
    "colab_type": "code",
    "id": "R44g5T7NYp_H",
    "outputId": "135a85a6-7a85-4b16-a8eb-3ad7bd4da5b6"
   },
   "outputs": [
    {
     "data": {
      "text/plain": "<Figure size 432x288 with 1 Axes>",
      "image/png": "[encoded data removed]"
     },
     "metadata": {
      "needs_background": "light"
     },
     "output_type": "display_data"
    }
   ],
   "source": [
    "plt.hist([len(s) for s in sentences], bins=50)\n",
    "plt.show()"
   ]
  },
  {
   "cell_type": "code",
   "execution_count": 76,
   "outputs": [],
   "source": [
    "from tensorflow.keras.preprocessing.sequence import pad_sequences\n",
    "from tensorflow.keras.utils import to_categorical\n",
    "\n",
    "max_len = 50\n",
    "\n",
    "X = [[word2idx[w[0]] for w in s] for s in sentences]\n",
    "X = pad_sequences(X, maxlen=max_len, padding='post', value=num_words-1)\n",
    "\n",
    "\n",
    "y = [[tag2idx[w[2]] for w in s] for s in sentences]\n",
    "y = pad_sequences(y, maxlen=max_len, padding='post', value=tag2idx['O'])\n",
    "y = [to_categorical(i, num_classes=num_tags) for i in y]"
   ],
   "metadata": {
    "collapsed": false,
    "pycharm": {
     "name": "#%%\n"
    }
   }
  },
  {
   "cell_type": "code",
   "execution_count": 77,
   "outputs": [],
   "source": [
    "from sklearn.model_selection import train_test_split\n",
    "\n",
    "x_train, x_test, y_train, y_test = train_test_split(X, y, test_size=.2, random_state=1)"
   ],
   "metadata": {
    "collapsed": false,
    "pycharm": {
     "name": "#%%\n"
    }
   }
  },
  {
   "cell_type": "markdown",
   "metadata": {
    "colab_type": "text",
    "id": "P-r4PR85hpoF"
   },
   "source": [
    "### Task 6: Build and Compile a Bidirectional LSTM Model"
   ]
  },
  {
   "cell_type": "code",
   "execution_count": 78,
   "metadata": {
    "colab": {},
    "colab_type": "code",
    "id": "Y2vM7IkXpkiH"
   },
   "outputs": [],
   "source": [
    "from tensorflow.keras import Model, Input\n",
    "from tensorflow.keras.layers import LSTM, Embedding, Dense\n",
    "from tensorflow.keras.layers import TimeDistributed, SpatialDropout1D, Bidirectional"
   ]
  },
  {
   "cell_type": "code",
   "execution_count": 79,
   "outputs": [
    {
     "name": "stdout",
     "output_type": "stream",
     "text": [
      "Model: \"model_1\"\n",
      "_________________________________________________________________\n",
      "Layer (type)                 Output Shape              Param #   \n",
      "=================================================================\n",
      "input_2 (InputLayer)         [(None, 50)]              0         \n",
      "_________________________________________________________________\n",
      "embedding_1 (Embedding)      (None, 50, 50)            1758950   \n",
      "_________________________________________________________________\n",
      "spatial_dropout1d_1 (Spatial (None, 50, 50)            0         \n",
      "_________________________________________________________________\n",
      "bidirectional_1 (Bidirection (None, 50, 200)           120800    \n",
      "_________________________________________________________________\n",
      "time_distributed_1 (TimeDist (None, 50, 17)            3417      \n",
      "=================================================================\n",
      "Total params: 1,883,167\n",
      "Trainable params: 1,883,167\n",
      "Non-trainable params: 0\n",
      "_________________________________________________________________\n"
     ]
    }
   ],
   "source": [
    "input_word = Input(shape=(max_len, ))\n",
    "model = Embedding(input_dim=num_words, output_dim=max_len, input_length=max_len)(input_word)\n",
    "model = SpatialDropout1D(0.1)(model)\n",
    "model = Bidirectional(LSTM(units=100, return_sequences=True, recurrent_dropout=0.1))(model)\n",
    "out = TimeDistributed(Dense(num_tags, activation='softmax'))(model)\n",
    "model = Model(input_word, out)\n",
    "\n",
    "model.summary()"
   ],
   "metadata": {
    "collapsed": false,
    "pycharm": {
     "name": "#%%\n"
    }
   }
  },
  {
   "cell_type": "code",
   "execution_count": 80,
   "outputs": [],
   "source": [
    "model.compile(optimizer='adam', loss='categorical_crossentropy', metrics=['accuracy'])"
   ],
   "metadata": {
    "collapsed": false,
    "pycharm": {
     "name": "#%%\n"
    }
   }
  },
  {
   "cell_type": "markdown",
   "metadata": {
    "colab_type": "text",
    "id": "My0tL0cciMXQ"
   },
   "source": [
    "### Task 7: Train the Model"
   ]
  },
  {
   "cell_type": "code",
   "execution_count": 81,
   "metadata": {},
   "outputs": [],
   "source": [
    "from tensorflow.keras.callbacks import ModelCheckpoint, EarlyStopping\n",
    "from livelossplot.tf_keras import PlotLossesCallback"
   ]
  },
  {
   "cell_type": "code",
   "execution_count": 89,
   "outputs": [
    {
     "data": {
      "text/plain": "<Figure size 864x576 with 2 Axes>",
      "image/png": "[encoded data removed]"
     },
     "metadata": {
      "needs_background": "light"
     },
     "output_type": "display_data"
    },
    {
     "name": "stdout",
     "output_type": "stream",
     "text": [
      "Log-loss (cost function):\n",
      "training   (min:    0.027, max:    0.032, cur:    0.027)\n",
      "validation (min:    0.048, max:    0.050, cur:    0.050)\n",
      "\n",
      "accuracy:\n",
      "training   (min:    0.990, max:    0.991, cur:    0.991)\n",
      "validation (min:    0.986, max:    0.986, cur:    0.986)\n",
      "30693/30693 [==============================] - 83s 3ms/sample - loss: 0.0275 - accuracy: 0.9913 - val_loss: 0.0497 - val_accuracy: 0.9855\n"
     ]
    }
   ],
   "source": [
    "early_stopping = EarlyStopping(monitor='val_accuracy', patience=1, verbose=0, mode='max',\n",
    "                               restore_best_weights=False)\n",
    "callbacks =[PlotLossesCallback(), early_stopping]\n",
    "\n",
    "history = model.fit(\n",
    "    x_train, np.array(y_train),\n",
    "    validation_split=0.2,\n",
    "    batch_size=32,\n",
    "    epochs=3, # for fast training\n",
    "    verbose=1,\n",
    "    callbacks=callbacks\n",
    ")\n"
   ],
   "metadata": {
    "collapsed": false,
    "pycharm": {
     "name": "#%%\n"
    }
   }
  },
  {
   "cell_type": "markdown",
   "metadata": {
    "colab_type": "text",
    "id": "2nwnnF0ziU3B"
   },
   "source": [
    "### Task 8: Evaluate Named Entity Recognition Model"
   ]
  },
  {
   "cell_type": "code",
   "execution_count": 83,
   "metadata": {
    "colab": {
     "base_uri": "https://localhost:8080/",
     "height": 52
    },
    "colab_type": "code",
    "id": "6euqX7UHplG7",
    "outputId": "7222c24c-52c5-454b-a5d4-03d6df4173f0",
    "pycharm": {
     "name": "#%%\n"
    }
   },
   "outputs": [
    {
     "name": "stdout",
     "output_type": "stream",
     "text": [
      "9592/9592 [==============================] - 4s 397us/sample - loss: 0.0513 - accuracy: 0.9848\b\b\b\b\b\b\b\b\b\b\b\b\b\b\b\b\b\b\b\b\b\b\b\b\b\b\b\b\b\b\b\b\b\b\b\b\b\b\b\b\b\b\b\b\b\b\b\b\b\b\b\b\b\b\b\b\b\b\b\b\b\b\b\b\b\b\b\b\b\b\b\b\b\b\b\b\b\b\b\b\b\b\b\b\b\b\b\b\b\b\b\b\b\b\b\b\b\b\b\b\b\b\b\b\b\b\b\b\b\b\b\b\b\b\b\b\b\b\b\b\b\b\b\b\b\b\b\b\b\b\b\b\b\b\b\b\b\b\b\b\b\b\b\b\b\b\b\b\b\b\b\b\b\b\b\b\b\b\b\b\b\b\b\b\b\b\b\b\b\b\b\b\b\b\b\b\b\b\b\b\b\b\b\b\b\b\b\b\b\b\b\b\b\b\b\b\b\b\b\b\b\b\b\b\b\b\b\b\b\b\b\b\b\b\b\b\b\b\b\b\b\b\b\b\b\b\b\b\b\b\b\b\b\b\b\b\b\b\b\b\b\b\b\b\b\b\b\b\b\b\b\b\b\b\b\b\b\b\b\b\b\b\b\b\b\b\b\b\b\b\b\b\b\b\b\b\b\b\b\b\b\b\b\b\b\b\b\b\b\b\b\b\b\b\b\b\b\b\b\b\b\b\b\b\b\b\b\b\b\b\b\b\b\b\b\b\b\b\b\b\b\b\b\b\b\b\b\b\b\b\b\b\b\b\b\b\b\b\b\b\b\b\b\b\b\b\b\b\b\b\b\b\b\b\b\b\b\b\b\b\b\b\b\b\b\b\b\b\b\b\b\b\b\b\b\b\b\b\b\b\b\b\b\b\b\b\b\b\b\b\b\b\b\b\b\b\b\b\b\b\b\b\b\b\b\b\b\b\b\b\b\b\b\b\b\b\b\b\b\b\b\b\b\b\b\b\b\b\b\b\b\b\b\b\b\b\b\b\b\b\b\b\b\b\b\b\b\b\b\b\b\b\b\b\b\b\b\b\b\b\b\b\b\b\b\b\b\b\b\b\b\b\b\b\b\b\b\b\b\b\b\b\b\b\b\b\b\b\b\b\b\b\b\b\b\b\b\b\b\b\b\b\b\b\b\b\b\b\b\b\b\b\b\b\b\b\b\b\b\b\b\b\b\b\b\b\b\b\b\b\b\b\b\b\b\b\b\b\b\b\b\b\b\b\b\b\b\b\b\b\b\b\b\b\b\b\b\b\b\b\b\b\b\b\b\b\b\b\b\b\b\b\b\b\b\b\b\b\b\b\b\b\b\b\b\b\b\b\b\b\b\b\b\b\b\b\b\b\b\b\b\b\b\b\b\b\b\b\b\b\b\b\b\b\b\b\b\b\b\b\b\b\b\b\b\b\b\b\b\b\b\b\b\b\b\b\b\b\b\b\b\b\b\b\b\b\b\b\b\b\b\b\b\b\b\b\b\b\b\b\b\b\b\b\b\b\b\b\b\b\b\b\b\b\b\b\b\b\b\b\b\b\b\b\b\b\b\b\b\b\b\b\b\b\b\b\b\b\b\b\b\b\b\b\b\b\b\b\b\b\b\b\b\b\b\b\b\b\b\b\b\b\b\b\b\b\b\b\b\b\b\b\b\b\b\b\b\b\b\b\b\b\b\b\b\b\b\b\b\b\b\b\b\b\b\b\b\b\b\b\b\b\b\b\b\b\b\b\b\b\b\b\b\b\b\b\b\b\b\b\b\b\b\b\b\b\b\b\b\b\b\b\b\b\b\b\b\b\b\b\b\b\b\b\b\b\b\b\b\b\b\b\b\b\b\b\b\b\b\b\b\b\b\b\b\b\b\b\b\b\b\b\b\b\b\b\b\b\b\b\b\b\b\b\b\b\b\b\b\b\b\b\b\b\b\b\b\b\b\b\b\b\b\b\b\b\b\b\b\b\b\b\b\b\b\b\b\b\b\b\b\b\b\b\b\b\b\b\b\b\b\b\b\b\b\b\b\b\b\b\b\b\b\b\b\b\b\b\b\b\b\b\b\b\b\b\b\b\b\b\b\b\b\b\b\b\b\b\b\b\b\b\b\b\b\b\b\b\b\b\b\b\b\b\b\b\b\b\b\b\b\b\b\b\b\b\b\b\b\b\b\b\b\b\b\b\b\b\b\b\b\b\b\b\b\b\b\b\b\b\b\b\b\b\b\b\b\b\b\b\b\b\b\b\b\b\b\b\b\b\b\b\b\b\b\b\b\b\b\b\b\b\b\b\b\b\b\b\b\b\b\b\b\b\b\b\b\b\b\b\b\b\b\b\b\b\b\b\b\b\b\b\b\b\b\b\b\b\b\b\b\b\b\b\b\b\b\b\b\b\b\b\b\b\b\b\b\b\b\b\b\b\b\b\b\b\b\b\b\b\b\b\b\b\b\b\b\b\b\b\b\b\b\b\b\b\b\b\b\b\b\b\b\b\b\b\b\b\b\b\b\b\b\b\b\b\b\b\b\b\b\b\b\b\b\b\b\b\b\b\b\b\b\b\b\b\b\b\b\b\b\b\b\b\b\b\b\b\b\b\b\b\b\b\b\b\b\b\b\b\b\b\b\b\b\b\b\b\b\b\b\b\b\b\b\b\b\b\b\b\b\b\b\b\b\b\b\b\b\b\b\b\b\b\b\b\b\b\b\b\b\b\b\b\b\b\b\b\b\b\b\b\b\b\b\b\b\b\b\b\b\b\b\b\b\b\b\b\b\b\b\b\b\b\b\b\b\b\b\b\b\b\b\b\b\b\b\b\b\b\b\b\b\b\b\b\b\b\b\b\b\b\b\b\b\b\b\b\b\b\b\b\b\b\b\b\b\b\b\b\b\b\b\b\b\b\b\b\b\b\b\b\b\b\b\b\b\b\b\b\b\b\b\b\b\b\b\b\b\b\b\b\b\b\b\b\b\b\b\b\b\b\b\b\b\b\b\b\b\b\b\b\b\b\b\b\b\b\b\b\b\b\b\b\b\b\b\b\b\b\b\b\b\b\b\b\b\b\b\b\b\b\b\b\b\b\b\b\b\b\b\b\b\b\b\b\b\b\b\b\b\b\b\b\b\b\b\b\b\b\b\b\b\b\b\b\b\b\b\b\b\b\b\b\b\b\b\b\b\b\b\b\b\b\b\b\b\b\b\b\b\b\b\b\b\b\b\b\b\b\b\b\b\b\b\b\b\b\b\b\b\b\b\b\b\b\b\b\b\b\b\b\b\b\b\b\b\b\b\b\b\b\b\b\b\b\b\b\b\b\b\b\b\b\b\b\b\b\b\b\b\b\b\b\b\b\b\b\b\b\b\b\b\b\b\b\b\b\b\b\b\b\b\b\b\b\b\b\b\b\b\b\b\b\b\b\b\b\b\b\b\b\b\b\b\b\b\b\b\b\b\b\b\b\b\b\b\b\b\b\b\b\b\b\b\b\b\b\b\b\b\b\b\b\b\b\b\b\b\b\b\b\b\b\b\b\b\b\b\b\b\b\b\b\b\b\b\b\b\b\b\b\b\b\b\b\b\b\b\b\b\b\b\b\b\b\b\b\b\b\b\b\b\b\b\b\b\b\b\b\b\b\b\b\b\b\b\b\b\b\b\b\b\b\b\b\b\b\b\b\b\b\b\b\b\b\b\b\b\b\b\b\b\b\b\b\b\b\b\b\b\b\b\b\b\b\b\b\b\b\b\b\b\b\b\b\b\b\b\b\b\b\b\b\b\b\b\b\b\b\b\b\b\b\b\b\b\b\b\b\b\b\b\b\b\b\b\b\b\b\b\b\b\b\b\b\b\b\b\b\b\b\b\b\b\b\b\b\b\b\b\b\b\b\b\b\b\b\b\b\b\b\b\b\b\b\b\b\b\b\b\b\b\b\b\b\b\b\b\b\b\b\b\b\b\b\b\b\b\b\b\b\b\b\b\b\b\b\b\b\b\b\b\b\b\b\b\b\b\b\b\b\b\b\b\b\b\b\b\b\b\b\b\b\b\b\b\b\b\b\b\b\b\b\b\b\b\b\b\b\b\b\b\b\b\b\b\b\b\b\b\b\b\b\b\b\b\b\b\b\b\b\b\b\b\b\b\b\b\b\b\b\b\b\b\b\b\b\b\b\b\b\b\b\b\b\b\b\b\b\b\b\b\b\b\b\b\b\b\b\b\b\b\b\b\b\b\b\b\b\b\b\b\b\b\b\b\b\b\b\b\b\b\b\b\b\b\b\b\b\b\b\b\b\b\b\b\b\b\b\b\b\b\b\b\b\b\b\b\b\b\b\b\b\b\b\b\b\b\b\b\b\b\b\b\b\b\b\b\b\b\b\b\b\b\b\b\b\b\b\b\b\b\b\b\b\b\b\b\b\b\b\b\b\b\b\b\b\b\b\b\b\b\b\b\b\b\b\b\b\b\b\b\b\b\b\b\b\b\b\b\b\b\b\b\b\b\b\b\b\b\b\b\b\b\b\b\b\b\b\b\b\b\b\b\b\b\b\b\b\b\b\b\b\b\b\b\b\b\b\b\b\b\b\b\b\b\b\b\b\b\b\b\b\b\b\b\b\b\b\b\b\b\b\b\b\b\b\b\b\b\b\b\b\b\b\b\b\b\b\b\b\b\b\b\b\b\b\b\b\b\b\b\b\b\b\b\b\b\b\b\b\b\b\b\b\b\b\b\b\b\b\b\b\b\b\b\b\b\b\b\b\b\b\b\b\b\b\b\b\b\b\b\b\b\b\b\b\b\b\b\b\b\b\b\b\b\b\b\b\b\b\b\b\b\b\b\b\b\b\b\b\b\b\b\b\b\b\b\b\b\b\b\b\b\b\b\b\b\b\b\b\b\b\b\b\b\b\b\b\b\b\b\b\b\b\b\b\b\b\b\b\b\b\b\b\b\b\b\b\b\b\b\b\b\b\b\b\b\b\b\b\b\b\b\b\b\b\b\b\b\b\b\b\b\b\b\b\b\b\b\b\b\b\b\b\b\b\b\b\b\b\b\b\b\b\b\b\b\b\b\b\b\b\b\b\b\b\b\b\b\b\b\b\b\b\b\b\b\b\b\b\b\b\b\b\b\b\b\b\b\b\b\b\b\b\b\b\b\b\b\b\b\b\b\b\b\b\b\b\b\b\b\b\b\b\b\b\b\b\b\b\b\b\b\b\b\b\b\b\b\b\b\b\b\b\b\b\b\b\b\b\b\b\b\b\b\b\b\b\b\b\b\b\b\b\b\b\b\b\b\b\b\b\b\b\b\b\b\b\b\b\b\b\b\b\b\b\b\b\b\b\b\b\b\b\b\b\b\b\b\b\b\b\b\b\b\b\b\b\b\b\b\b\b\b\b\b\b\b\b\b\b\b\b\b\b\b\b\b\b\b\b\b\b\b\b\b\b\b\b\b\b\b\b\b\b\b\b\b\b\b\b\b\b\b\b\b\b\b\b\b\b\b\b\b\b\b\b\b\b\b\b\b\b\b\b\b\b\b\b\b\b\b\b\b\b\b\b\b\b\b\b\b\b\b\b\b\b\b\b\b\b\b\b\b\b\b\b\b\b\b\b\b\b\b\b\b\b\b\b\b\b\b\b\b\b\b\b\b\b\b\b\b\b\b\b\b\b\b\b\b\b\b\b\b\b\b\b\b\b\b\b\b\b\b\b\b\b\b\b\b\b\b\b\b\b\b\b\b\b\b\b\b\b\b\b\b\b\b\b\b\b\b\b\b\b\b\b\b\b\b\b\b\b\b\b\b\b\b\b\b\b\b\b\b\b\b\b\b\b\b\b\b\b\b\b\b\b\b\b\b\b\b\b\b\b\b\b\b\b\b\b\b\b\b\b\b\b\b\b\b\b\b\b\b\b\b\b\b\b\b\b\b\b\b\b\b\b\b\b\b\b\b\b\b\b\b\b\b\b\b\b\b\b\b\b\b\b\b\b\b\b\b\b\b\b\b\b\b\b\b\b\b\b\b\b\b\b\b\b\b\b\b\b\b\b\b\b\b\b\b\b\b\b\b\b\b\b\b\b\b\b\b\b\b\b\b\b\b\b\b\b\b\b\b\b\b\b\b\b\b\b\b\b\b\b\b\b\b\b\b\b\b\b\b\b\b\b\b\b\b\b\b\b\b\b\b\b\b\b\b\b\b\b\b\b\b\b\b\b\b\b\b\b\b\b\b\b\b\b\b\b\b\b\b\b\b\b\b\b\b\b\b\b\b\b\b\b\b\b\b\b\b\b\b\b\b\b\b\b\b\b\b\b\b\b\b\b\b\b\b\b\b\b\b\b\b\b\b\b\b\b\b\b\b\b\b\b\b\b\b\b\b\b\b\b\b\b\b\b\b\b\b\b\b\b\b\b\b\b\b\b\b\b\b\b\b\b\b\b\b\b\b\b\b\b\b\b\b\b\b\b\b\b\b\b\b\b\b\b\b\b\b\b\b\b\b\b\b\b\b\b\b\b\b\b\b\b\b\b\b\b\b\b\b\b\b\b\b\b\b\b\b\b\b\b\b\b\b\b\b\b\b\b\b\b\b\b\b\b\b\b\b\b\b\b\b\b\b\b\b\b\b\b\b\b\b\b\b\b\b\b\b\b\b\b\b\b\b\b\b\b\b\b\b\b\b\b\b\b\b\b\b\b\b\b\b\b\b\b\b\b\b\b\b\b\b\b\b\b\b\b\b\b\b\b\b\b\b\b\b\b\b\b\b\b\b\b\b\b\b\b\b\b\b\b\b\b\b\b\b\b\b\b\b\b\b\b\b\b\b\b\b\b\b\b\b\b\b\b\b\b\b\b\b\b\b\b\b\b\b\b\b\b\b\b\b\b\b\b\b\b\b\b\b\b\b\b\b\b\b\b\b\b\b\b\b\b\b\b\b\b\b\b\b\b\b\b\b\b\b\b\b\b\b\b\b\b\b\b\b\b\b\b\b\b\b\b\b\b\b\b\b\b\b\b\b\b\b\b\b\b\b\b\b\b\b\b\b\b\b\b\b\b\b\b\b\b\b\b\b\b\b\b\b\b\b\b\b\b\b\b\b\b\b\b\b\b\b\b\b\b\b\b\b\b\b\b\b\b\b\b\b\b\b\b\b\b\b\b\b\b\b\b\b\b\b\b\b\b\b\b\b\b\b\b\b\b\b\b\b\b\b\b\b\b\b\b\b\b\b\b\b\b\b\b\b\b\b\b\b\b\b\b\b\b\b\b\b\b\b\b\b\b\b\b\b\b\b\b\b\b\b\b\b\b\b\b\b\b\b\b\b\b\b\b\b\b\b\b\b\b\b\b\b\b\b\b\b\b\b\b\b\b\b\b\b\b\b\b\b\b\b\b\b\b\b\b\b\b\b\b\b\b\b\b\b\b\b\b\b\b\b\b\b\b\b\b\b\b\b\b\b\b\b\b\b\b\b\b\b\b\b\b\b\b\b\b\b\b\b\b\b\b\b\b\b\b\b\b\b\b\b\b\b\b\b\b\b\b\b\b\b\b\b\b\b\b\b\b\b\b\b\b\b\b\b\b\b\b\b\b\b\b\b\b\b\b\b\b\b\b\b\b\b\b\b\b\b\b\b\b\b\b\b\b\b\b\b\b\b\b\b\b\b\b\b\b\b\b\b\b\b\b\b\b\b\b\b\b\b\b\b\b\b\b\b\b\b\b\b\b\b\b\b\b\b\b\b\b\b\b\b\b\b\b\b\b\b\b\b\b\b\b\b\b\b\b\b\b\b\b\b\b\b\b\b\b\b\b\b\b\b\b\b\b\b\b\b\b\b\b\b\b\b\b\b\b\b\b\b\b\b\b\b\b\b\b\b\b\b\b\b\b\b\b\b\b\b\b\b\b\b\b\b\b\b\b\b\b\b\b\b\b\b\b\b\b\b\b\b\b\b\b\b\b\b\b\b\b\b\b\b\b\b\b\b\b\b\b\b\b\b\b\b\b\b\b\b\b\b\b\b\b\b\b\b\b\b\b\b\b\b\b\b\b\b\b\b\b\b\b\b\b\b\b\b\b\b\b\b\b\b\b\b\b\b\b\b\b\b\b\b\b\b\b\b\b\b\b\b\b\b\b\b\b\b\b\b\b\b\b\b\b\b\b\b\b\b\b\b\b\b\b\b\b\b\b\b\b\b\b\b\b\b\b\b\b\b\b\b\b\b\b\b\b\b\b\b\b\b\b\b\b\b\b\b\b\b\b\b\b\b\b\b\b\b\b\b\b\b\b\b\b\b\b\b\b\b\b\b\b\b\b\b\b\b\b\b\b\b\b\b\b\b\b\b\b\b\b\b\b\b\b\b\b\b\b\b\b\b\b\b\b\b\b\b\b\b\b\b\b\b\b\b\b\b\b\b\b\b\b\b\b\b\b\b\b\b\b\b\b\b\b\b\b\b\b\b\b\b\b\b\b\b\b\b\b\b\b\b\b\b\b\b\b\b\b\b\b\b\b\b\b\b\b\b\b\b\b\b\b\b\b\b\b\b\b\b\b\b\b\b\b\b\b\b\b\b\b\b\b\b\b\b\b\b\b\b\b\b\b\b\b\b\b\b\b\b\b\b\b\b\b\b\b\b\b\b\b\b\b\b\b\b\b\b\b\b\b\b\b\b\b\b\b\b\b\b\b\b\b\b\b\b\b\b\b\b\b\b\b\b\b\b\b\b\b\b\b\b\b\b\b\b\b\b\b\b\b\b\b\b\b\b\b\b\b\b\b\b\b\b\b\b\b\b\b\b\b\b\b\b\b\b\b\b\b\b\b\b\b\b\b\b\b\b\b\b\b\b\b\b\b\b\b\b\b\b\b\b\b\b\b\b\b\b\b\b\b\b\b\b\b\b\b\b\b\b\b\b\b\b\b\b\b\b\b\b\b\b\b\b\b\b\b\b\b\b\b\b\b\b\b\b\b\b\b\b\b\b\b\b\b\b\b\b\b\b\b\b\b\b\b\b\b\b\b\b\b\b\b\b\b\b\b\b\b\b\b\b\b\b\b\b\b\b\b\b\b\b\b\b\b\b\b\b\b\b\b\b\b\b\b\b\b\b\b\b\b\b\b\b\b\b\b\b\b\b\b\b\b\b\b\b\b\b\b\b\b\b\b\b\b\b\b\b\b\b\b\b\b\b\b\b\b\b\b\b\b\b\b\b\b\b\b\b\b\b\b\b\b\b\b\b\b\b\b\b\b\b\b\b\b\b\b\b\b\b\b\b\b\b\b\b\b\b\b\b\b\b\b\b\b\b\b\b\b\b\b\b\b\b\b\b\b\b\b\b\b\b\b\b\b\b\b\b\b\b\b\b\b\b\b\b\b\b\b\b\b\b\b\b\b\b\b\b\b\b\b\b\b\b\b\b\b\b\b\b\b\b\b\b\b\b\b\b\b\b\b\b\b\b\b\b\b\b\b\b\b\b\b\b\b\b\b\b\b\b\b\b\b\b\b\b\b\b\b\b\b\b\b\b\b\b\b\b\b\b\b\b\b\b\b\b\b\b\b\b\b\b\b\b\b\b\b\b\b\b\b\b\b\b\b\b\b\b\b\b\b\b\b\b\b\b\b\b\b\b\b\b\b\b\b\b\b\b\b\b\b\b\b\b\b\b\b\b\b\b\b\b\b\b\b\b\b\b\b\b\b\b\b\b\b\b\b\b\b\b\b\b\b\b\b\b\b\b\b\b\b\b\b\b\b\b\b\b\b\b\b\b\b\b\b\b\b\b\b\b\b\b\b\b\b\b\b\b\b\b\b\b\b\b\b\b\b\b\b\b\b\b\b\b\b\b\b\b\b\b\b\b\b\b\b\b\b\b\b\b\b\b\b\b\b\b\b\b\b\b\b\b\b\b\b\b\b\b\b\b\b\b\b\b\b\b\b\b\b\b\b\b\b\b\b\b\b\b\b\b\b\b\b\b\b\b\b\b\b\b\b\b\b\b\b\b\b\b\b\b\b\b\b\b\b\b\b\b\b\b\b\b\b\b\b\b\b\b\b\b\b\b\b\b\b\b\b\b\b\b\b\b\b\b\b\b\b\b\b\b\b\b\b\b\b\b\b\b\b\b\b\b\b\b\b\b\b\b\b\b\b\b\b\b\b\b\b\b\b\b\b\b\b\b\b\b\b\b\b\b\b\b\b\b\b\b\b\b\b\b\b\b\b\b\b\b\b\b\b\b\b\b\b\b\b\b\b\b\b\b\b\b\b\b\b\b\b\b\b\b\b\b\b\b\b\b\b\b\b\b\b\b\b\b\b\b\b\b\b\b\b\b\b\b\b\b\b\b\b\b\b\b\b\b\b\b\b\b\b\b\b\b\b\b\b\b\b\b\b\b\b\b\b\b\b\b\b\b\b\b\b\b\b\b\b\b\b\b\b\b\b\b\b\b\b\b\b\b\b\b\b\b\b\b\b\b\b\b\b\b\b\b\b\b\b\b\b\b\b\b\b\b\b\b\b\b\b\b\b\b\b\b\b\b\b\b\b\b\b\b\b\b\b\b\b\b\b\b\b\b\b\b\b\b\b\b\b\b\b\b\b\b\b\b\b\b\b\b\b\b\b\b\b\b\b\b\b\b\b\b\b\b\b\b\b\b\b\b\b\b\b\b\b\b\b\b\b\b\b\b\b\b\b\b\b\b\b\b\b\b\b\b\b\b\b\b\b\b\b\b\b\b\b\b\b\b\b\b\b\b\b\b\b\b\b\b\b\b\b\b\b\b\b\b\b\b\b\b\b\b\b\b\b\b\b\b\b\b\b\b\b\b\b\b\b\b\b\b\b\b\b\b\b\b\b\b\b\b\b\b\b\b\b\b\b\b\b\b\b\b\b\b\b\b\b\b\b\b\b\b\b\b\b\b\b\b\b\b\b\b\b\b\b\b\b\b\b\b\b\b\b\b\b\b\b\b\b\b\b\b\b\b\b\b\b\b\b\b\b\b\b\b\b\b\b\b\b\b\b\b\b\b\b\b\b\b\b\b\b\b\b\b\b\b\b\b\b\b\b\b\b\b\b\b\b\b\b\b\b\b\b\b\b\b\b\b\b\b\b\b\b\b\b\b\b\b\b\b\b\b\b\b\b\b\b\b\b\b\b\b\b\b\b\b\b\b\b\b\b\b\b\b\b\b\b\b\b\b\b\b\b\b\b\b\b\b\b\b\b\b\b\b\b\b\b\b\b\b\b\b\b\b\b\b\b\b\b\b\b\b\b\b\b\b\b\b\b\b\b\b\b\b\b\b\b\b\b\b\b\b\b\b\b\b\b\b\b\b\b\b\b\b\b\b\b\b\b\b\b\b\b\b\b\b\b\b\b\b\b\b\b\b\b\b\b\b\b\b\b\b\b\b\b\b\b\b\b\b\b\b\b\b\b\b\b\b\b\b\b\b\b\b\b\b\b\b\b\b\b\b\b\b\b\b\b\b\b\b\b\b\b\b\b\b\b\b\b\b\b\b\b\b\b\b\b\b\b\b\b\b\b\b\b\b\b\b\b\b\b\b\b\b\b\b\b\b\b\b\b\b\b\b\b\b\b\b\b\b\b\b\b\b\b\b\b\b\b\b\b\b\b\b\b\b\b\b\b\b\b\b\b\b\b\b\b\b\b\b\b\b\b\b\b\b\b\b\b\b\b\b\b\b\b\b\b\b\b\b\b\b\b\b\b\b\b\b\b\b\b\b\b\b\b\b\b\b\b\b\b\b\b\b\b\b\b\b\b\b\b\b\b\b\b\b\b\b\b\b\b\b\b\b\b\b\b\b\b\b\b\b\b\b\b\b\b\b\b\b\b\b\b\b\b\b\b\b\b\b\b\b\b\b\b\b\b\b\b\b\b\b\b\b\b\b\b\b\b\b\b\b\b\b\b\b\b\b\b\b\b\b\b\b\b\b\b\b\b\b\b\b\b\b\b\b\b\b\b\b\b\b\b\b\b\b\b\b\b\b\b\b\b\b\b\b\b\b\b\b\b\b\b\b\b\b\b\b\b\b\b\b\b\b\b\b\b\b\b\b\b\b\b\b\b\b\b\b\b\b\b\b\b\b\b\b\b\b\b\b\b\b\b\b\b\b\b\b\b\b\b\b\b\b\b\b\b\b\b\b\b\b\b\b\b\b\b\b\b\b\b\b\b\b\b\b\b\b\b\b\b\b\b\b\b\b\b\b\b\b\b\b\b\b\b\b\b\b\b\b\b\b\b\b\b\b\b\b\b\b\b\b\b\b\b\b\b\b\b\b\b\b\b\b\b\b\b\b\b\b\b\b\b\b\b\b\b\b\b\b\b\b\b\b\b\b\b\b\b\b\b\b\b\b\b\b\b\b\b\b\b\b\b\b\b\b\b\b\b\b\b\b\b\b\b\b\b\b\b\b\b\b\b\b\b\b\b\b\b\b\b\b\b\b\b\b\b\b\b\b\b\b\b\b\b\b\b\b\b\b\b\b\b\b\b\b\b\b\b\b\b\b\b\b\b\b\b\b\b\b\b\b\b\b\b\b\b\b\b\b\b\b\b\b\b\b\b\b\b\b\b\b\b\b\b\b\b\b\b\b\b\b\b\b\b\b\b\b\b\b\b\b\b\b\b\b\b\b\b\b\b\b\b\b\b\b\b\b\b\b\b\b\b\b\b\b\b\b\b\b\b\b\b\b\b\b\b\b\b\b\b\b\b\b\b\b\b\b\b\b\n"
     ]
    },
    {
     "data": {
      "text/plain": "[0.051348737819280295, 0.98483527]"
     },
     "execution_count": 83,
     "metadata": {},
     "output_type": "execute_result"
    }
   ],
   "source": [
    "model.evaluate(x_test, np.array(y_test))"
   ]
  },
  {
   "cell_type": "code",
   "execution_count": 88,
   "outputs": [
    {
     "name": "stdout",
     "output_type": "stream",
     "text": [
      "Word           True \t Pred\n",
      "\n",
      "------------------------------\n",
      "It             O    \tO\n",
      "says           O    \tO\n",
      "better         O    \tO\n",
      "economic       O    \tO\n",
      "conditions     O    \tO\n",
      "and            O    \tO\n",
      "remittances    O    \tO\n",
      "sent           O    \tO\n",
      "home           O    \tO\n",
      "by             O    \tO\n",
      "emigrants      O    \tO\n",
      "working        O    \tO\n",
      "abroad         O    \tO\n",
      "have           O    \tO\n",
      "contributed    O    \tO\n",
      "to             O    \tO\n",
      "the            O    \tO\n",
      "decline        O    \tO\n",
      ".              O    \tO\n",
      "smooth         O    \tO\n",
      "smooth         O    \tO\n",
      "smooth         O    \tO\n",
      "smooth         O    \tO\n",
      "smooth         O    \tO\n",
      "smooth         O    \tO\n",
      "smooth         O    \tO\n",
      "smooth         O    \tO\n",
      "smooth         O    \tO\n",
      "smooth         O    \tO\n",
      "smooth         O    \tO\n",
      "smooth         O    \tO\n",
      "smooth         O    \tO\n",
      "smooth         O    \tO\n",
      "smooth         O    \tO\n",
      "smooth         O    \tO\n",
      "smooth         O    \tO\n",
      "smooth         O    \tO\n",
      "smooth         O    \tO\n",
      "smooth         O    \tO\n",
      "smooth         O    \tO\n",
      "smooth         O    \tO\n",
      "smooth         O    \tO\n",
      "smooth         O    \tO\n",
      "smooth         O    \tO\n",
      "smooth         O    \tO\n",
      "smooth         O    \tO\n",
      "smooth         O    \tO\n",
      "smooth         O    \tO\n",
      "smooth         O    \tO\n",
      "smooth         O    \tO\n"
     ]
    }
   ],
   "source": [
    "i = np.random.randint(0, x_test.shape[0])\n",
    "p = model.predict(np.array([x_test[i]]))\n",
    "p = np.argmax(p, axis=-1)\n",
    "\n",
    "y_true = np.argmax(np.array(y_test), axis=-1)[i]\n",
    "print('{:15}{:5}\\t {}\\n'.format('Word', 'True', 'Pred'))\n",
    "print('-' * 30)\n",
    "\n",
    "for w, true, pred in zip(x_test[i], y_true, p[0]):\n",
    "    print(f'{words[w-1]:15}{tags[true]:5}\\t{tags[pred]}')\n",
    "\n"
   ],
   "metadata": {
    "collapsed": false,
    "pycharm": {
     "name": "#%%\n"
    }
   }
  }
 ],
 "metadata": {
  "accelerator": "GPU",
  "colab": {
   "collapsed_sections": [],
   "name": "NER.ipynb",
   "provenance": []
  },
  "kernelspec": {
   "name": "pycharm-b77f8e1",
   "language": "python",
   "display_name": "PyCharm (lstm-entity-recognition)"
  },
  "language_info": {
   "codemirror_mode": {
    "name": "ipython",
    "version": 3
   },
   "file_extension": ".py",
   "mimetype": "text/x-python",
   "name": "python",
   "nbconvert_exporter": "python",
   "pygments_lexer": "ipython3",
   "version": "3.6.8"
  }
 },
 "nbformat": 4,
 "nbformat_minor": 1
}